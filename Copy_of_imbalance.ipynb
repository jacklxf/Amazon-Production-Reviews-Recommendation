{
  "nbformat": 4,
  "nbformat_minor": 0,
  "metadata": {
    "colab": {
      "name": "Copy of Untitled0.ipynb",
      "provenance": [],
      "authorship_tag": "ABX9TyP26iUoXosc8g40wxPDZDIR",
      "include_colab_link": true
    },
    "kernelspec": {
      "name": "python3",
      "display_name": "Python 3"
    },
    "language_info": {
      "name": "python"
    }
  },
  "cells": [
    {
      "cell_type": "markdown",
      "metadata": {
        "id": "view-in-github",
        "colab_type": "text"
      },
      "source": [
        "<a href=\"https://colab.research.google.com/github/jacklxf/Amazon-Production-Reviews-Recommendation/blob/master/Copy_of_imbalance.ipynb\" target=\"_parent\"><img src=\"https://colab.research.google.com/assets/colab-badge.svg\" alt=\"Open In Colab\"/></a>"
      ]
    },
    {
      "cell_type": "code",
      "execution_count": null,
      "metadata": {
        "id": "3lVr9-fwuHsi"
      },
      "outputs": [],
      "source": [
        "import os\n",
        "from google.cloud import bigquery\n",
        "os.environ[\"GOOGLE_APPLICATION_CREDENTIALS\"] = \"carbon-sensor-259109-3fcdaf905a87.json\"\n",
        "client = bigquery.Client()\n",
        "\n",
        "\n",
        "import numpy as np\n",
        "import pandas as pd\n",
        "from sklearn.model_selection import train_test_split\n",
        "from sklearn.decomposition import PCA\n",
        "from sklearn.preprocessing import StandardScaler\n",
        "from imblearn.over_sampling import SMOTE\n",
        "from imblearn.ensemble import BalancedBaggingClassifier\n",
        "from sklearn.preprocessing import LabelEncoder\n",
        "from sklearn.neural_network import MLPClassifier\n",
        "from sklearn.metrics import accuracy_score,confusion_matrix,classification_report\n",
        "from joblib import dump\n",
        "import matplotlib.pyplot as plt\n",
        "pd.options.display.float_format = '{:.2f}'.format\n",
        "\n",
        "from imblearn.under_sampling import OneSidedSelection\n",
        "from sklearn.ensemble import AdaBoostClassifier\n",
        "\n",
        "pca=PCA(n_components=10)\n",
        "sc = StandardScaler()\n",
        "sm = SMOTE(sampling_strategy='auto', k_neighbors=8)\n",
        "le=LabelEncoder()"
      ]
    },
    {
      "cell_type": "code",
      "source": [
        "first_7days=\"\"\"\n",
        "select MemberID,MemberCategory,Platform,SportName,Market,\n",
        "StakeOdds,StakeAmtL,StakeReturnAmtL\n",
        "from RAW.esports_wager_first7days\n",
        "where StakeReturnAmtL<>0\n",
        "\"\"\""
      ],
      "metadata": {
        "id": "8O4BgP2huT8w"
      },
      "execution_count": null,
      "outputs": []
    },
    {
      "cell_type": "code",
      "source": [
        "data = client.query(first_7days).to_dataframe().set_index('MemberID')\n",
        "data"
      ],
      "metadata": {
        "colab": {
          "base_uri": "https://localhost:8080/",
          "height": 455
        },
        "id": "9bsC3uFMvZTX",
        "outputId": "9e6c54f9-5fce-4b8a-f183-31e34a1d738c"
      },
      "execution_count": null,
      "outputs": [
        {
          "output_type": "execute_result",
          "data": {
            "text/html": [
              "\n",
              "  <div id=\"df-1bb8e757-5f3f-42ee-8342-1f62c4c633a6\">\n",
              "    <div class=\"colab-df-container\">\n",
              "      <div>\n",
              "<style scoped>\n",
              "    .dataframe tbody tr th:only-of-type {\n",
              "        vertical-align: middle;\n",
              "    }\n",
              "\n",
              "    .dataframe tbody tr th {\n",
              "        vertical-align: top;\n",
              "    }\n",
              "\n",
              "    .dataframe thead th {\n",
              "        text-align: right;\n",
              "    }\n",
              "</style>\n",
              "<table border=\"1\" class=\"dataframe\">\n",
              "  <thead>\n",
              "    <tr style=\"text-align: right;\">\n",
              "      <th></th>\n",
              "      <th>MemberCategory</th>\n",
              "      <th>Platform</th>\n",
              "      <th>SportName</th>\n",
              "      <th>Market</th>\n",
              "      <th>StakeOdds</th>\n",
              "      <th>StakeAmtL</th>\n",
              "      <th>StakeReturnAmtL</th>\n",
              "    </tr>\n",
              "    <tr>\n",
              "      <th>MemberID</th>\n",
              "      <th></th>\n",
              "      <th></th>\n",
              "      <th></th>\n",
              "      <th></th>\n",
              "      <th></th>\n",
              "      <th></th>\n",
              "      <th></th>\n",
              "    </tr>\n",
              "  </thead>\n",
              "  <tbody>\n",
              "    <tr>\n",
              "      <th>271_IM02Ololzu8888_271</th>\n",
              "      <td>Normal</td>\n",
              "      <td>MOBILE</td>\n",
              "      <td>FIFA</td>\n",
              "      <td>Prematch</td>\n",
              "      <td>2.36</td>\n",
              "      <td>50.00</td>\n",
              "      <td>68.05</td>\n",
              "    </tr>\n",
              "    <tr>\n",
              "      <th>237_BW2016537053_237</th>\n",
              "      <td>Normal</td>\n",
              "      <td>MOBILE</td>\n",
              "      <td>FIFA</td>\n",
              "      <td>Prematch</td>\n",
              "      <td>2.64</td>\n",
              "      <td>211.00</td>\n",
              "      <td>-211.00</td>\n",
              "    </tr>\n",
              "    <tr>\n",
              "      <th>2107_yibxboyqzt_2107</th>\n",
              "      <td>Normal</td>\n",
              "      <td>MOBILE</td>\n",
              "      <td>SC2</td>\n",
              "      <td>Prematch</td>\n",
              "      <td>1.12</td>\n",
              "      <td>5.00</td>\n",
              "      <td>0.58</td>\n",
              "    </tr>\n",
              "    <tr>\n",
              "      <th>237_F8phuoQE1AFKTB_237</th>\n",
              "      <td>Normal</td>\n",
              "      <td>INTERNET</td>\n",
              "      <td>RL</td>\n",
              "      <td>Prematch</td>\n",
              "      <td>2.78</td>\n",
              "      <td>20.25</td>\n",
              "      <td>-20.25</td>\n",
              "    </tr>\n",
              "    <tr>\n",
              "      <th>2107_yib40070048_2107</th>\n",
              "      <td>Normal</td>\n",
              "      <td>INTERNET</td>\n",
              "      <td>FIFA</td>\n",
              "      <td>Prematch</td>\n",
              "      <td>1.63</td>\n",
              "      <td>5.00</td>\n",
              "      <td>3.17</td>\n",
              "    </tr>\n",
              "    <tr>\n",
              "      <th>...</th>\n",
              "      <td>...</td>\n",
              "      <td>...</td>\n",
              "      <td>...</td>\n",
              "      <td>...</td>\n",
              "      <td>...</td>\n",
              "      <td>...</td>\n",
              "      <td>...</td>\n",
              "    </tr>\n",
              "    <tr>\n",
              "      <th>558_19816221763_558</th>\n",
              "      <td>Normal</td>\n",
              "      <td>MOBILE</td>\n",
              "      <td>DOTA2</td>\n",
              "      <td>Prematch</td>\n",
              "      <td>1.77</td>\n",
              "      <td>300.00</td>\n",
              "      <td>-300.00</td>\n",
              "    </tr>\n",
              "    <tr>\n",
              "      <th>491_28149138THB_491</th>\n",
              "      <td>Normal</td>\n",
              "      <td>INTERNET</td>\n",
              "      <td>DOTA2</td>\n",
              "      <td>Prematch</td>\n",
              "      <td>1.72</td>\n",
              "      <td>66.36</td>\n",
              "      <td>-66.36</td>\n",
              "    </tr>\n",
              "    <tr>\n",
              "      <th>2103_kok18973301774_2103</th>\n",
              "      <td>Normal</td>\n",
              "      <td>MOBILE</td>\n",
              "      <td>DOTA2</td>\n",
              "      <td>Prematch</td>\n",
              "      <td>3.40</td>\n",
              "      <td>300.00</td>\n",
              "      <td>-300.00</td>\n",
              "    </tr>\n",
              "    <tr>\n",
              "      <th>892_allgame001486_892</th>\n",
              "      <td>Normal</td>\n",
              "      <td>MOBILE</td>\n",
              "      <td>DOTA2</td>\n",
              "      <td>LiveBall</td>\n",
              "      <td>1.96</td>\n",
              "      <td>66.69</td>\n",
              "      <td>-66.69</td>\n",
              "    </tr>\n",
              "    <tr>\n",
              "      <th>491_24797483THB_491</th>\n",
              "      <td>Normal</td>\n",
              "      <td>MOBILE</td>\n",
              "      <td>DOTA2</td>\n",
              "      <td>Prematch</td>\n",
              "      <td>2.25</td>\n",
              "      <td>65.07</td>\n",
              "      <td>-65.07</td>\n",
              "    </tr>\n",
              "  </tbody>\n",
              "</table>\n",
              "<p>2657279 rows × 7 columns</p>\n",
              "</div>\n",
              "      <button class=\"colab-df-convert\" onclick=\"convertToInteractive('df-1bb8e757-5f3f-42ee-8342-1f62c4c633a6')\"\n",
              "              title=\"Convert this dataframe to an interactive table.\"\n",
              "              style=\"display:none;\">\n",
              "        \n",
              "  <svg xmlns=\"http://www.w3.org/2000/svg\" height=\"24px\"viewBox=\"0 0 24 24\"\n",
              "       width=\"24px\">\n",
              "    <path d=\"M0 0h24v24H0V0z\" fill=\"none\"/>\n",
              "    <path d=\"M18.56 5.44l.94 2.06.94-2.06 2.06-.94-2.06-.94-.94-2.06-.94 2.06-2.06.94zm-11 1L8.5 8.5l.94-2.06 2.06-.94-2.06-.94L8.5 2.5l-.94 2.06-2.06.94zm10 10l.94 2.06.94-2.06 2.06-.94-2.06-.94-.94-2.06-.94 2.06-2.06.94z\"/><path d=\"M17.41 7.96l-1.37-1.37c-.4-.4-.92-.59-1.43-.59-.52 0-1.04.2-1.43.59L10.3 9.45l-7.72 7.72c-.78.78-.78 2.05 0 2.83L4 21.41c.39.39.9.59 1.41.59.51 0 1.02-.2 1.41-.59l7.78-7.78 2.81-2.81c.8-.78.8-2.07 0-2.86zM5.41 20L4 18.59l7.72-7.72 1.47 1.35L5.41 20z\"/>\n",
              "  </svg>\n",
              "      </button>\n",
              "      \n",
              "  <style>\n",
              "    .colab-df-container {\n",
              "      display:flex;\n",
              "      flex-wrap:wrap;\n",
              "      gap: 12px;\n",
              "    }\n",
              "\n",
              "    .colab-df-convert {\n",
              "      background-color: #E8F0FE;\n",
              "      border: none;\n",
              "      border-radius: 50%;\n",
              "      cursor: pointer;\n",
              "      display: none;\n",
              "      fill: #1967D2;\n",
              "      height: 32px;\n",
              "      padding: 0 0 0 0;\n",
              "      width: 32px;\n",
              "    }\n",
              "\n",
              "    .colab-df-convert:hover {\n",
              "      background-color: #E2EBFA;\n",
              "      box-shadow: 0px 1px 2px rgba(60, 64, 67, 0.3), 0px 1px 3px 1px rgba(60, 64, 67, 0.15);\n",
              "      fill: #174EA6;\n",
              "    }\n",
              "\n",
              "    [theme=dark] .colab-df-convert {\n",
              "      background-color: #3B4455;\n",
              "      fill: #D2E3FC;\n",
              "    }\n",
              "\n",
              "    [theme=dark] .colab-df-convert:hover {\n",
              "      background-color: #434B5C;\n",
              "      box-shadow: 0px 1px 3px 1px rgba(0, 0, 0, 0.15);\n",
              "      filter: drop-shadow(0px 1px 2px rgba(0, 0, 0, 0.3));\n",
              "      fill: #FFFFFF;\n",
              "    }\n",
              "  </style>\n",
              "\n",
              "      <script>\n",
              "        const buttonEl =\n",
              "          document.querySelector('#df-1bb8e757-5f3f-42ee-8342-1f62c4c633a6 button.colab-df-convert');\n",
              "        buttonEl.style.display =\n",
              "          google.colab.kernel.accessAllowed ? 'block' : 'none';\n",
              "\n",
              "        async function convertToInteractive(key) {\n",
              "          const element = document.querySelector('#df-1bb8e757-5f3f-42ee-8342-1f62c4c633a6');\n",
              "          const dataTable =\n",
              "            await google.colab.kernel.invokeFunction('convertToInteractive',\n",
              "                                                     [key], {});\n",
              "          if (!dataTable) return;\n",
              "\n",
              "          const docLinkHtml = 'Like what you see? Visit the ' +\n",
              "            '<a target=\"_blank\" href=https://colab.research.google.com/notebooks/data_table.ipynb>data table notebook</a>'\n",
              "            + ' to learn more about interactive tables.';\n",
              "          element.innerHTML = '';\n",
              "          dataTable['output_type'] = 'display_data';\n",
              "          await google.colab.output.renderOutput(dataTable, element);\n",
              "          const docLink = document.createElement('div');\n",
              "          docLink.innerHTML = docLinkHtml;\n",
              "          element.appendChild(docLink);\n",
              "        }\n",
              "      </script>\n",
              "    </div>\n",
              "  </div>\n",
              "  "
            ],
            "text/plain": [
              "                         MemberCategory  Platform  ... StakeAmtL StakeReturnAmtL\n",
              "MemberID                                           ...                          \n",
              "271_IM02Ololzu8888_271           Normal    MOBILE  ...     50.00           68.05\n",
              "237_BW2016537053_237             Normal    MOBILE  ...    211.00         -211.00\n",
              "2107_yibxboyqzt_2107             Normal    MOBILE  ...      5.00            0.58\n",
              "237_F8phuoQE1AFKTB_237           Normal  INTERNET  ...     20.25          -20.25\n",
              "2107_yib40070048_2107            Normal  INTERNET  ...      5.00            3.17\n",
              "...                                 ...       ...  ...       ...             ...\n",
              "558_19816221763_558              Normal    MOBILE  ...    300.00         -300.00\n",
              "491_28149138THB_491              Normal  INTERNET  ...     66.36          -66.36\n",
              "2103_kok18973301774_2103         Normal    MOBILE  ...    300.00         -300.00\n",
              "892_allgame001486_892            Normal    MOBILE  ...     66.69          -66.69\n",
              "491_24797483THB_491              Normal    MOBILE  ...     65.07          -65.07\n",
              "\n",
              "[2657279 rows x 7 columns]"
            ]
          },
          "metadata": {},
          "execution_count": 6
        }
      ]
    },
    {
      "cell_type": "code",
      "source": [
        "data.loc[~data['SportName'].isin(['LOL','KOG','DOTA2','CSGO']),'SportName']='Others'\n",
        "print('SportName has converted.')"
      ],
      "metadata": {
        "colab": {
          "base_uri": "https://localhost:8080/"
        },
        "id": "TBhI_UDQyYg9",
        "outputId": "841ef47e-a363-49ba-af6b-1c00557e2b73"
      },
      "execution_count": null,
      "outputs": [
        {
          "output_type": "stream",
          "name": "stdout",
          "text": [
            "SportName has converted.\n"
          ]
        }
      ]
    },
    {
      "cell_type": "code",
      "source": [
        "X = data.drop(['MemberCategory'],axis=1)\n",
        "y = data['MemberCategory']"
      ],
      "metadata": {
        "id": "LlHQX6D3ygIU"
      },
      "execution_count": null,
      "outputs": []
    },
    {
      "cell_type": "code",
      "source": [
        "X = pd.get_dummies(X)"
      ],
      "metadata": {
        "id": "geW4wiE_yzwF"
      },
      "execution_count": null,
      "outputs": []
    },
    {
      "cell_type": "code",
      "source": [
        "X.head()"
      ],
      "metadata": {
        "colab": {
          "base_uri": "https://localhost:8080/",
          "height": 302
        },
        "id": "rbH2uoUty3zW",
        "outputId": "8f7d3407-1f52-41dd-e2a3-5e400f075b78"
      },
      "execution_count": null,
      "outputs": [
        {
          "output_type": "execute_result",
          "data": {
            "text/html": [
              "\n",
              "  <div id=\"df-4efe5410-3cbc-4989-b7fe-b49f9badaf0f\">\n",
              "    <div class=\"colab-df-container\">\n",
              "      <div>\n",
              "<style scoped>\n",
              "    .dataframe tbody tr th:only-of-type {\n",
              "        vertical-align: middle;\n",
              "    }\n",
              "\n",
              "    .dataframe tbody tr th {\n",
              "        vertical-align: top;\n",
              "    }\n",
              "\n",
              "    .dataframe thead th {\n",
              "        text-align: right;\n",
              "    }\n",
              "</style>\n",
              "<table border=\"1\" class=\"dataframe\">\n",
              "  <thead>\n",
              "    <tr style=\"text-align: right;\">\n",
              "      <th></th>\n",
              "      <th>StakeOdds</th>\n",
              "      <th>StakeAmtL</th>\n",
              "      <th>StakeReturnAmtL</th>\n",
              "      <th>Platform_INTERNET</th>\n",
              "      <th>Platform_MOBILE</th>\n",
              "      <th>SportName_CSGO</th>\n",
              "      <th>SportName_DOTA2</th>\n",
              "      <th>SportName_KOG</th>\n",
              "      <th>SportName_LOL</th>\n",
              "      <th>SportName_Others</th>\n",
              "      <th>Market_LiveBall</th>\n",
              "      <th>Market_Prematch</th>\n",
              "    </tr>\n",
              "    <tr>\n",
              "      <th>MemberID</th>\n",
              "      <th></th>\n",
              "      <th></th>\n",
              "      <th></th>\n",
              "      <th></th>\n",
              "      <th></th>\n",
              "      <th></th>\n",
              "      <th></th>\n",
              "      <th></th>\n",
              "      <th></th>\n",
              "      <th></th>\n",
              "      <th></th>\n",
              "      <th></th>\n",
              "    </tr>\n",
              "  </thead>\n",
              "  <tbody>\n",
              "    <tr>\n",
              "      <th>271_IM02Ololzu8888_271</th>\n",
              "      <td>2.36</td>\n",
              "      <td>50.00</td>\n",
              "      <td>68.05</td>\n",
              "      <td>0</td>\n",
              "      <td>1</td>\n",
              "      <td>0</td>\n",
              "      <td>0</td>\n",
              "      <td>0</td>\n",
              "      <td>0</td>\n",
              "      <td>1</td>\n",
              "      <td>0</td>\n",
              "      <td>1</td>\n",
              "    </tr>\n",
              "    <tr>\n",
              "      <th>237_BW2016537053_237</th>\n",
              "      <td>2.64</td>\n",
              "      <td>211.00</td>\n",
              "      <td>-211.00</td>\n",
              "      <td>0</td>\n",
              "      <td>1</td>\n",
              "      <td>0</td>\n",
              "      <td>0</td>\n",
              "      <td>0</td>\n",
              "      <td>0</td>\n",
              "      <td>1</td>\n",
              "      <td>0</td>\n",
              "      <td>1</td>\n",
              "    </tr>\n",
              "    <tr>\n",
              "      <th>2107_yibxboyqzt_2107</th>\n",
              "      <td>1.12</td>\n",
              "      <td>5.00</td>\n",
              "      <td>0.58</td>\n",
              "      <td>0</td>\n",
              "      <td>1</td>\n",
              "      <td>0</td>\n",
              "      <td>0</td>\n",
              "      <td>0</td>\n",
              "      <td>0</td>\n",
              "      <td>1</td>\n",
              "      <td>0</td>\n",
              "      <td>1</td>\n",
              "    </tr>\n",
              "    <tr>\n",
              "      <th>237_F8phuoQE1AFKTB_237</th>\n",
              "      <td>2.78</td>\n",
              "      <td>20.25</td>\n",
              "      <td>-20.25</td>\n",
              "      <td>1</td>\n",
              "      <td>0</td>\n",
              "      <td>0</td>\n",
              "      <td>0</td>\n",
              "      <td>0</td>\n",
              "      <td>0</td>\n",
              "      <td>1</td>\n",
              "      <td>0</td>\n",
              "      <td>1</td>\n",
              "    </tr>\n",
              "    <tr>\n",
              "      <th>2107_yib40070048_2107</th>\n",
              "      <td>1.63</td>\n",
              "      <td>5.00</td>\n",
              "      <td>3.17</td>\n",
              "      <td>1</td>\n",
              "      <td>0</td>\n",
              "      <td>0</td>\n",
              "      <td>0</td>\n",
              "      <td>0</td>\n",
              "      <td>0</td>\n",
              "      <td>1</td>\n",
              "      <td>0</td>\n",
              "      <td>1</td>\n",
              "    </tr>\n",
              "  </tbody>\n",
              "</table>\n",
              "</div>\n",
              "      <button class=\"colab-df-convert\" onclick=\"convertToInteractive('df-4efe5410-3cbc-4989-b7fe-b49f9badaf0f')\"\n",
              "              title=\"Convert this dataframe to an interactive table.\"\n",
              "              style=\"display:none;\">\n",
              "        \n",
              "  <svg xmlns=\"http://www.w3.org/2000/svg\" height=\"24px\"viewBox=\"0 0 24 24\"\n",
              "       width=\"24px\">\n",
              "    <path d=\"M0 0h24v24H0V0z\" fill=\"none\"/>\n",
              "    <path d=\"M18.56 5.44l.94 2.06.94-2.06 2.06-.94-2.06-.94-.94-2.06-.94 2.06-2.06.94zm-11 1L8.5 8.5l.94-2.06 2.06-.94-2.06-.94L8.5 2.5l-.94 2.06-2.06.94zm10 10l.94 2.06.94-2.06 2.06-.94-2.06-.94-.94-2.06-.94 2.06-2.06.94z\"/><path d=\"M17.41 7.96l-1.37-1.37c-.4-.4-.92-.59-1.43-.59-.52 0-1.04.2-1.43.59L10.3 9.45l-7.72 7.72c-.78.78-.78 2.05 0 2.83L4 21.41c.39.39.9.59 1.41.59.51 0 1.02-.2 1.41-.59l7.78-7.78 2.81-2.81c.8-.78.8-2.07 0-2.86zM5.41 20L4 18.59l7.72-7.72 1.47 1.35L5.41 20z\"/>\n",
              "  </svg>\n",
              "      </button>\n",
              "      \n",
              "  <style>\n",
              "    .colab-df-container {\n",
              "      display:flex;\n",
              "      flex-wrap:wrap;\n",
              "      gap: 12px;\n",
              "    }\n",
              "\n",
              "    .colab-df-convert {\n",
              "      background-color: #E8F0FE;\n",
              "      border: none;\n",
              "      border-radius: 50%;\n",
              "      cursor: pointer;\n",
              "      display: none;\n",
              "      fill: #1967D2;\n",
              "      height: 32px;\n",
              "      padding: 0 0 0 0;\n",
              "      width: 32px;\n",
              "    }\n",
              "\n",
              "    .colab-df-convert:hover {\n",
              "      background-color: #E2EBFA;\n",
              "      box-shadow: 0px 1px 2px rgba(60, 64, 67, 0.3), 0px 1px 3px 1px rgba(60, 64, 67, 0.15);\n",
              "      fill: #174EA6;\n",
              "    }\n",
              "\n",
              "    [theme=dark] .colab-df-convert {\n",
              "      background-color: #3B4455;\n",
              "      fill: #D2E3FC;\n",
              "    }\n",
              "\n",
              "    [theme=dark] .colab-df-convert:hover {\n",
              "      background-color: #434B5C;\n",
              "      box-shadow: 0px 1px 3px 1px rgba(0, 0, 0, 0.15);\n",
              "      filter: drop-shadow(0px 1px 2px rgba(0, 0, 0, 0.3));\n",
              "      fill: #FFFFFF;\n",
              "    }\n",
              "  </style>\n",
              "\n",
              "      <script>\n",
              "        const buttonEl =\n",
              "          document.querySelector('#df-4efe5410-3cbc-4989-b7fe-b49f9badaf0f button.colab-df-convert');\n",
              "        buttonEl.style.display =\n",
              "          google.colab.kernel.accessAllowed ? 'block' : 'none';\n",
              "\n",
              "        async function convertToInteractive(key) {\n",
              "          const element = document.querySelector('#df-4efe5410-3cbc-4989-b7fe-b49f9badaf0f');\n",
              "          const dataTable =\n",
              "            await google.colab.kernel.invokeFunction('convertToInteractive',\n",
              "                                                     [key], {});\n",
              "          if (!dataTable) return;\n",
              "\n",
              "          const docLinkHtml = 'Like what you see? Visit the ' +\n",
              "            '<a target=\"_blank\" href=https://colab.research.google.com/notebooks/data_table.ipynb>data table notebook</a>'\n",
              "            + ' to learn more about interactive tables.';\n",
              "          element.innerHTML = '';\n",
              "          dataTable['output_type'] = 'display_data';\n",
              "          await google.colab.output.renderOutput(dataTable, element);\n",
              "          const docLink = document.createElement('div');\n",
              "          docLink.innerHTML = docLinkHtml;\n",
              "          element.appendChild(docLink);\n",
              "        }\n",
              "      </script>\n",
              "    </div>\n",
              "  </div>\n",
              "  "
            ],
            "text/plain": [
              "                        StakeOdds  StakeAmtL  ...  Market_LiveBall  Market_Prematch\n",
              "MemberID                                      ...                                  \n",
              "271_IM02Ololzu8888_271       2.36      50.00  ...                0                1\n",
              "237_BW2016537053_237         2.64     211.00  ...                0                1\n",
              "2107_yibxboyqzt_2107         1.12       5.00  ...                0                1\n",
              "237_F8phuoQE1AFKTB_237       2.78      20.25  ...                0                1\n",
              "2107_yib40070048_2107        1.63       5.00  ...                0                1\n",
              "\n",
              "[5 rows x 12 columns]"
            ]
          },
          "metadata": {},
          "execution_count": 10
        }
      ]
    },
    {
      "cell_type": "code",
      "source": [
        "y = le.fit_transform(y)"
      ],
      "metadata": {
        "id": "IBZXQHlvzEkz"
      },
      "execution_count": null,
      "outputs": []
    },
    {
      "cell_type": "code",
      "source": [
        "y"
      ],
      "metadata": {
        "colab": {
          "base_uri": "https://localhost:8080/"
        },
        "id": "kyDg5smezKKm",
        "outputId": "d9f979cd-8b42-4c28-fb7d-323a9f9b9ca8"
      },
      "execution_count": null,
      "outputs": [
        {
          "output_type": "execute_result",
          "data": {
            "text/plain": [
              "array([1, 1, 1, ..., 1, 1, 1])"
            ]
          },
          "metadata": {},
          "execution_count": 13
        }
      ]
    },
    {
      "cell_type": "code",
      "source": [
        "X_std = sc.fit_transform(X)\n",
        "X_train,X_test,y_train,y_test=train_test_split(X_std,y,test_size=0.3,random_state=0,stratify=y)\n",
        "print('Seperated X,y'+'\\n')\n",
        "print('X_train : {}'.format(X_train.shape))\n",
        "print('X_test : {}'.format(X_test.shape))\n",
        "print('y_train : {}'.format(y_train.shape))\n",
        "print('y_test : {}'.format(y_test.shape))"
      ],
      "metadata": {
        "colab": {
          "base_uri": "https://localhost:8080/"
        },
        "id": "XM5pzLPZ1A2p",
        "outputId": "bc3d2c49-4f6c-4bd1-d023-2c9ad06b0b1b"
      },
      "execution_count": null,
      "outputs": [
        {
          "output_type": "stream",
          "name": "stdout",
          "text": [
            "Seperated X,y\n",
            "\n",
            "X_train : (1860095, 12)\n",
            "X_test : (797184, 12)\n",
            "y_train : (1860095,)\n",
            "y_test : (797184,)\n"
          ]
        }
      ]
    },
    {
      "cell_type": "code",
      "source": [
        "def BalanceCascade(X_train, y_train, X_test, num):\n",
        "    negnum = y_train[y_train == 0].shape[0]\n",
        "    posnum = y_train[y_train == 1].shape[0]\n",
        "    neg_index = np.argwhere(y_train == 0).reshape(negnum, )\n",
        "    pos_index = np.argwhere(y_train == 1).reshape(posnum, )\n",
        "    pos_train = X_train[pos_index, :]\n",
        "    \n",
        "    FP = pow(posnum/negnum, 1/(num-1))\n",
        "    classifiers = {}; thresholds = {}; test_prob = np.empty((X_test.shape[0], num))\n",
        "    for i in range(num):\n",
        "        classifiers[i] = AdaBoostClassifier()\n",
        "        neg_train_index = np.random.permutation(neg_index)[:posnum]\n",
        "        neg_train = X_train[neg_train_index, :]\n",
        "        cur_X_train = np.r_[pos_train, neg_train]\n",
        "        cur_y_train = np.r_[y_train[pos_index], y_train[neg_train_index]]\n",
        "        classifiers[i].fit(cur_X_train, cur_y_train)\n",
        "        predict_result = classifiers[i].predict_proba(X_train[neg_index, :])[:,-1]\n",
        "        thresholds[i] = np.sort(predict_result)[int(neg_index.shape[0]*(1-FP))] - 0.5\n",
        "        neg_index = np.argwhere(predict_result >= (thresholds[i] + 0.5)).reshape(-1, )\n",
        "        test_prob[:,i] = classifiers[i].predict_proba(X_test)[:,-1] + thresholds[i]\n",
        "        print(\"No.{} Classifier Training Finished\".format(i))\n",
        "    test_prob_result = np.average(test_prob, axis=1)\n",
        "    return test_prob_result"
      ],
      "metadata": {
        "id": "xyhh9Kx0zaMu"
      },
      "execution_count": null,
      "outputs": []
    },
    {
      "cell_type": "code",
      "source": [
        "negnum = y_train[y_train == 0].shape[0]\n",
        "posnum = y_train[y_train == 1].shape[0]"
      ],
      "metadata": {
        "id": "Qv_IMAwyHaxc"
      },
      "execution_count": null,
      "outputs": []
    },
    {
      "cell_type": "code",
      "source": [
        "negnum,posnum"
      ],
      "metadata": {
        "colab": {
          "base_uri": "https://localhost:8080/"
        },
        "id": "V6PDBUHAHi1z",
        "outputId": "e5bbe735-22a0-446d-fec1-c702247ea7b8"
      },
      "execution_count": null,
      "outputs": [
        {
          "output_type": "execute_result",
          "data": {
            "text/plain": [
              "(4666, 1855429)"
            ]
          },
          "metadata": {},
          "execution_count": 16
        }
      ]
    },
    {
      "cell_type": "code",
      "source": [
        "neg_index = np.argwhere(y_train == 0).reshape(negnum, )\n",
        "pos_index = np.argwhere(y_train == 1).reshape(posnum, )"
      ],
      "metadata": {
        "id": "aE2BVP1KHmc-"
      },
      "execution_count": null,
      "outputs": []
    },
    {
      "cell_type": "code",
      "source": [
        "neg_index,pos_index"
      ],
      "metadata": {
        "colab": {
          "base_uri": "https://localhost:8080/"
        },
        "id": "7vD7TRl0Hsko",
        "outputId": "6d8e92de-b985-4cab-9f8c-f2626df5011e"
      },
      "execution_count": null,
      "outputs": [
        {
          "output_type": "execute_result",
          "data": {
            "text/plain": [
              "(array([    408,     541,     664, ..., 1858914, 1859520, 1859999]),\n",
              " array([      0,       1,       2, ..., 1860092, 1860093, 1860094]))"
            ]
          },
          "metadata": {},
          "execution_count": 20
        }
      ]
    },
    {
      "cell_type": "code",
      "source": [
        "len(neg_index),len(pos_index)"
      ],
      "metadata": {
        "colab": {
          "base_uri": "https://localhost:8080/"
        },
        "id": "FGBqiC8FHzkU",
        "outputId": "def0abfd-6f9f-42e0-a083-52e16eb6f0e7"
      },
      "execution_count": null,
      "outputs": [
        {
          "output_type": "execute_result",
          "data": {
            "text/plain": [
              "(4666, 1855429)"
            ]
          },
          "metadata": {},
          "execution_count": 21
        }
      ]
    },
    {
      "cell_type": "code",
      "source": [
        "FP = pow(posnum/negnum, 1/(10-1))\n",
        "FP"
      ],
      "metadata": {
        "colab": {
          "base_uri": "https://localhost:8080/"
        },
        "id": "97dAXnjjIWQr",
        "outputId": "4681081e-9fab-4595-b914-10602998a9a2"
      },
      "execution_count": null,
      "outputs": [
        {
          "output_type": "execute_result",
          "data": {
            "text/plain": [
              "1.9446134692126367"
            ]
          },
          "metadata": {},
          "execution_count": 22
        }
      ]
    },
    {
      "cell_type": "code",
      "source": [
        "neg_train_index = np.random.permutation(neg_index)[:posnum]\n",
        "neg_train_index"
      ],
      "metadata": {
        "colab": {
          "base_uri": "https://localhost:8080/"
        },
        "id": "SOjmS6CuIzKw",
        "outputId": "4f2a1a47-130d-4a4a-dbdb-a84f0bd7e949"
      },
      "execution_count": null,
      "outputs": [
        {
          "output_type": "execute_result",
          "data": {
            "text/plain": [
              "array([  11802,  302993, 1618389, ..., 1341545,  278255,  759727])"
            ]
          },
          "metadata": {},
          "execution_count": 23
        }
      ]
    },
    {
      "cell_type": "code",
      "source": [
        "neg_train = X_train[neg_train_index, :]\n",
        "neg_train"
      ],
      "metadata": {
        "colab": {
          "base_uri": "https://localhost:8080/"
        },
        "id": "lkMSKYGYUD8l",
        "outputId": "5d1651d3-526b-4ada-9949-e68c6f4516af"
      },
      "execution_count": null,
      "outputs": [
        {
          "output_type": "execute_result",
          "data": {
            "text/plain": [
              "array([[-0.13447329,  3.19797104, -4.05372169, ..., -0.07532764,\n",
              "        -0.69090841,  0.69090841],\n",
              "       [-0.19181622, -0.18532366,  0.07408441, ..., 13.27533965,\n",
              "        -0.69090841,  0.69090841],\n",
              "       [-0.37166451, -0.22739761,  0.01452506, ..., -0.07532764,\n",
              "         1.44736985, -1.44736985],\n",
              "       ...,\n",
              "       [ 0.14702837, -0.11763947, -0.11583265, ..., -0.07532764,\n",
              "        -0.69090841,  0.69090841],\n",
              "       [-0.26088839,  0.03053402, -0.29181555, ..., -0.07532764,\n",
              "        -0.69090841,  0.69090841],\n",
              "       [-0.34103817, -0.2164218 ,  0.0337702 , ..., -0.07532764,\n",
              "        -0.69090841,  0.69090841]])"
            ]
          },
          "metadata": {},
          "execution_count": 24
        }
      ]
    },
    {
      "cell_type": "code",
      "source": [
        "pos_train = X_train[pos_index, :]\n",
        "pos_train"
      ],
      "metadata": {
        "colab": {
          "base_uri": "https://localhost:8080/"
        },
        "id": "N9hxrOUwVTtJ",
        "outputId": "d26eddf7-7ff4-472d-8742-9fe8a8ee71c9"
      },
      "execution_count": null,
      "outputs": [
        {
          "output_type": "execute_result",
          "data": {
            "text/plain": [
              "array([[-0.37818075, -0.2182511 ,  0.03121627, ..., -0.07532764,\n",
              "        -0.69090841,  0.69090841],\n",
              "       [-0.35341903, -0.17983575, -0.04196328, ..., -0.07532764,\n",
              "         1.44736985, -1.44736985],\n",
              "       [-0.21592632, -0.00879598, -0.24510404, ..., -0.07532764,\n",
              "         1.44736985, -1.44736985],\n",
              "       ...,\n",
              "       [-0.18595161, -0.2200804 ,  0.00583454, ..., -0.07532764,\n",
              "        -0.69090841,  0.69090841],\n",
              "       [-0.15858339, -0.22739761,  0.02554028, ..., -0.07532764,\n",
              "        -0.69090841,  0.69090841],\n",
              "       [-0.56389366, -0.05350413,  0.10601303, ..., -0.07532764,\n",
              "        -0.69090841,  0.69090841]])"
            ]
          },
          "metadata": {},
          "execution_count": 26
        }
      ]
    },
    {
      "cell_type": "code",
      "source": [
        "cur_X_train = np.r_[pos_train, neg_train]\n",
        "cur_X_train"
      ],
      "metadata": {
        "colab": {
          "base_uri": "https://localhost:8080/"
        },
        "id": "CA8kseQyJZtu",
        "outputId": "7d620068-b62f-4468-d47d-6a3d07c02e64"
      },
      "execution_count": null,
      "outputs": [
        {
          "output_type": "execute_result",
          "data": {
            "text/plain": [
              "array([[-0.37818075, -0.2182511 ,  0.03121627, ..., -0.07532764,\n",
              "        -0.69090841,  0.69090841],\n",
              "       [-0.35341903, -0.17983575, -0.04196328, ..., -0.07532764,\n",
              "         1.44736985, -1.44736985],\n",
              "       [-0.21592632, -0.00879598, -0.24510404, ..., -0.07532764,\n",
              "         1.44736985, -1.44736985],\n",
              "       ...,\n",
              "       [ 0.14702837, -0.11763947, -0.11583265, ..., -0.07532764,\n",
              "        -0.69090841,  0.69090841],\n",
              "       [-0.26088839,  0.03053402, -0.29181555, ..., -0.07532764,\n",
              "        -0.69090841,  0.69090841],\n",
              "       [-0.34103817, -0.2164218 ,  0.0337702 , ..., -0.07532764,\n",
              "        -0.69090841,  0.69090841]])"
            ]
          },
          "metadata": {},
          "execution_count": 27
        }
      ]
    },
    {
      "cell_type": "code",
      "source": [
        "cur_y_train = np.r_[y_train[pos_index], y_train[neg_train_index]]\n",
        "cur_y_train"
      ],
      "metadata": {
        "colab": {
          "base_uri": "https://localhost:8080/"
        },
        "id": "CVRZ5Ge5Vdms",
        "outputId": "face48c7-5ce0-46d3-a901-aef02459b0f1"
      },
      "execution_count": null,
      "outputs": [
        {
          "output_type": "execute_result",
          "data": {
            "text/plain": [
              "array([1, 1, 1, ..., 0, 0, 0])"
            ]
          },
          "metadata": {},
          "execution_count": 28
        }
      ]
    },
    {
      "cell_type": "code",
      "source": [
        "clf=MLPClassifier(activation='logistic',max_iter=300)\n",
        "clf.fit(cur_X_train,cur_y_train)\n",
        "predict_result = clf.predict.proba(X_train[neg_index, :])[:,-1]\n",
        "predict_result"
      ],
      "metadata": {
        "colab": {
          "base_uri": "https://localhost:8080/",
          "height": 217
        },
        "id": "KUs0fPKqVkUB",
        "outputId": "e7f9e025-aa0d-40cc-960d-9fc84159770a"
      },
      "execution_count": null,
      "outputs": [
        {
          "output_type": "error",
          "ename": "AttributeError",
          "evalue": "ignored",
          "traceback": [
            "\u001b[0;31m---------------------------------------------------------------------------\u001b[0m",
            "\u001b[0;31mAttributeError\u001b[0m                            Traceback (most recent call last)",
            "\u001b[0;32m<ipython-input-30-7e16e8cd9b41>\u001b[0m in \u001b[0;36m<module>\u001b[0;34m()\u001b[0m\n\u001b[1;32m      1\u001b[0m \u001b[0mclf\u001b[0m\u001b[0;34m=\u001b[0m\u001b[0mMLPClassifier\u001b[0m\u001b[0;34m(\u001b[0m\u001b[0mactivation\u001b[0m\u001b[0;34m=\u001b[0m\u001b[0;34m'logistic'\u001b[0m\u001b[0;34m,\u001b[0m\u001b[0mmax_iter\u001b[0m\u001b[0;34m=\u001b[0m\u001b[0;36m300\u001b[0m\u001b[0;34m)\u001b[0m\u001b[0;34m\u001b[0m\u001b[0;34m\u001b[0m\u001b[0m\n\u001b[1;32m      2\u001b[0m \u001b[0mclf\u001b[0m\u001b[0;34m.\u001b[0m\u001b[0mfit\u001b[0m\u001b[0;34m(\u001b[0m\u001b[0mcur_X_train\u001b[0m\u001b[0;34m,\u001b[0m\u001b[0mcur_y_train\u001b[0m\u001b[0;34m)\u001b[0m\u001b[0;34m\u001b[0m\u001b[0;34m\u001b[0m\u001b[0m\n\u001b[0;32m----> 3\u001b[0;31m \u001b[0mpredict_result\u001b[0m \u001b[0;34m=\u001b[0m \u001b[0mclf\u001b[0m\u001b[0;34m.\u001b[0m\u001b[0mpredict\u001b[0m\u001b[0;34m.\u001b[0m\u001b[0mproba\u001b[0m\u001b[0;34m(\u001b[0m\u001b[0mX_train\u001b[0m\u001b[0;34m[\u001b[0m\u001b[0mneg_index\u001b[0m\u001b[0;34m,\u001b[0m \u001b[0;34m:\u001b[0m\u001b[0;34m]\u001b[0m\u001b[0;34m)\u001b[0m\u001b[0;34m[\u001b[0m\u001b[0;34m:\u001b[0m\u001b[0;34m,\u001b[0m\u001b[0;34m-\u001b[0m\u001b[0;36m1\u001b[0m\u001b[0;34m]\u001b[0m\u001b[0;34m\u001b[0m\u001b[0;34m\u001b[0m\u001b[0m\n\u001b[0m\u001b[1;32m      4\u001b[0m \u001b[0mpredict_result\u001b[0m\u001b[0;34m\u001b[0m\u001b[0;34m\u001b[0m\u001b[0m\n",
            "\u001b[0;31mAttributeError\u001b[0m: 'function' object has no attribute 'proba'"
          ]
        }
      ]
    }
  ]
}